{
  "nbformat": 4,
  "nbformat_minor": 0,
  "metadata": {
    "colab": {
      "name": "lab_04_exercises.ipynb",
      "provenance": [],
      "collapsed_sections": [
        "aut1dJXmWw1O",
        "Ks081EJEWw1P",
        "SOvmwDdIRnTp"
      ]
    },
    "kernelspec": {
      "display_name": "Python 3",
      "language": "python",
      "name": "python3"
    },
    "language_info": {
      "codemirror_mode": {
        "name": "ipython",
        "version": 3
      },
      "file_extension": ".py",
      "mimetype": "text/x-python",
      "name": "python",
      "nbconvert_exporter": "python",
      "pygments_lexer": "ipython3",
      "version": "3.8.5"
    },
    "toc": {
      "base_numbering": 1,
      "nav_menu": {},
      "number_sections": false,
      "sideBar": true,
      "skip_h1_title": false,
      "title_cell": "Table of Contents",
      "title_sidebar": "Contents",
      "toc_cell": false,
      "toc_position": {
        "height": "calc(100% - 180px)",
        "left": "10px",
        "top": "150px",
        "width": "291px"
      },
      "toc_section_display": true,
      "toc_window_display": true
    }
  },
  "cells": [
    {
      "cell_type": "markdown",
      "metadata": {
        "id": "_fAAuF2zRnTk"
      },
      "source": [
        "<img align=\"center\" style=\"max-width: 1000px\" src=\"banner.png\">"
      ]
    },
    {
      "cell_type": "markdown",
      "metadata": {
        "id": "dojtwAh1Ww1B"
      },
      "source": [
        "<img align=\"right\" style=\"max-width: 200px; height: auto\" src=\"hsg_logo.png\">\n",
        "\n",
        "##  Lab 04 - \"Artificial Neural Networks (ANNs)\" Assignments\n",
        "\n",
        "GSERM'21 course \"Deep Learning: Fundamentals and Applications\", University of St. Gallen"
      ]
    },
    {
      "cell_type": "markdown",
      "metadata": {
        "id": "aR4Ywe2HWw1M"
      },
      "source": [
        "In the last lab we learned how to implement, train, and apply our first **Artificial Neural Network (ANN)** using a Python library named `PyTorch`. The `PyTorch` library is an open-source machine learning library for Python, used for a variety of applications such as image classification and natural language processing. In this lab, we aim to leverage that knowledge by applying it to a set of self-coding assignments. But before we do so let's start with a motivational video by NVIDIA:"
      ]
    },
    {
      "cell_type": "code",
      "metadata": {
        "id": "wgQ_ksmaWw1N"
      },
      "source": [
        "from IPython.display import YouTubeVideo\n",
        "# NVIDIA: \"The Deep Learning Revolution\"\n",
        "YouTubeVideo('Dy0hJWltsyE', width=1000, height=500)"
      ],
      "execution_count": null,
      "outputs": []
    },
    {
      "cell_type": "markdown",
      "metadata": {
        "id": "Z-9LY1AjWw1O"
      },
      "source": [
        "As always, pls. don't hesitate to ask all your questions either during the lab, post them in our CANVAS (StudyNet) forum (https://learning.unisg.ch), or send us an email (using the course email)."
      ]
    },
    {
      "cell_type": "markdown",
      "metadata": {
        "id": "aut1dJXmWw1O"
      },
      "source": [
        "## 1. Assignment Objectives:"
      ]
    },
    {
      "cell_type": "markdown",
      "metadata": {
        "id": "7tb0svb4Ww1O"
      },
      "source": [
        "Similar today's lab session, after today's self-coding assignments you should be able to:\n",
        "\n",
        "> 1. Understand the basic concepts, intuitions and major building blocks of **Artificial Neural Networks (ANNs)**.\n",
        "> 2. Know how to use Python's **PyTorch library** to train and evaluate neural network based models.\n",
        "> 3. Understand how to apply neural networks to **classify images** of handwritten digits.\n",
        "> 4. Know how to **interpret the detection results** of the network as well as its **reconstruction loss**."
      ]
    },
    {
      "cell_type": "markdown",
      "metadata": {
        "id": "Ks081EJEWw1P"
      },
      "source": [
        "## 2. Setup of the Jupyter Notebook Environment"
      ]
    },
    {
      "cell_type": "markdown",
      "metadata": {
        "id": "mdmhjYHFWw1P"
      },
      "source": [
        "Similar to the previous labs, we need to import a couple of Python libraries that allow for data analysis and data visualization. We will mostly use the `PyTorch`, `Numpy`, `Sklearn`, `Matplotlib`, `Seaborn` and a few utility libraries throughout this lab:"
      ]
    },
    {
      "cell_type": "code",
      "metadata": {
        "id": "5rDvIKj-Ww1P"
      },
      "source": [
        "# import standard python libraries\n",
        "import os, urllib, io\n",
        "from datetime import datetime\n",
        "import numpy as np"
      ],
      "execution_count": null,
      "outputs": []
    },
    {
      "cell_type": "markdown",
      "metadata": {
        "id": "heUZY7dgWw1Q"
      },
      "source": [
        "Import the Python machine / deep learning libraries:"
      ]
    },
    {
      "cell_type": "code",
      "metadata": {
        "id": "-RTb4Mc1Ww1Q"
      },
      "source": [
        "# import the PyTorch deep learning libary\n",
        "import torch, torchvision\n",
        "import torch.nn.functional as F\n",
        "from torch import nn, optim"
      ],
      "execution_count": null,
      "outputs": []
    },
    {
      "cell_type": "markdown",
      "metadata": {
        "id": "FRpZfSImWw1R"
      },
      "source": [
        "Import the sklearn classification metrics:"
      ]
    },
    {
      "cell_type": "code",
      "metadata": {
        "id": "VJ180J4sWw1R"
      },
      "source": [
        "# import sklearn classification evaluation library\n",
        "from sklearn import metrics\n",
        "from sklearn.metrics import classification_report, confusion_matrix"
      ],
      "execution_count": null,
      "outputs": []
    },
    {
      "cell_type": "markdown",
      "metadata": {
        "id": "5tatoV81Ww1R"
      },
      "source": [
        "Import Python plotting libraries:"
      ]
    },
    {
      "cell_type": "code",
      "metadata": {
        "id": "fTSNWwejWw1R"
      },
      "source": [
        "# import matplotlib, seaborn, and PIL data visualization libary\n",
        "import matplotlib.pyplot as plt\n",
        "import seaborn as sns\n",
        "from PIL import Image"
      ],
      "execution_count": null,
      "outputs": []
    },
    {
      "cell_type": "markdown",
      "metadata": {
        "id": "g83bVkFrWw1S"
      },
      "source": [
        "Enable notebook matplotlib inline plotting:"
      ]
    },
    {
      "cell_type": "code",
      "metadata": {
        "id": "i0MKI98CWw1S"
      },
      "source": [
        "%matplotlib inline"
      ],
      "execution_count": null,
      "outputs": []
    },
    {
      "cell_type": "markdown",
      "metadata": {
        "id": "DM3LiXwWWw1S"
      },
      "source": [
        "Create a structure of notebook sub-directories to store the data as well as the trained neural network models:"
      ]
    },
    {
      "cell_type": "code",
      "metadata": {
        "id": "ptQU8CeEWw1S"
      },
      "source": [
        "if not os.path.exists('./data'): os.makedirs('./data')  # create data directory\n",
        "if not os.path.exists('./models'): os.makedirs('./models')  # create trained models directory"
      ],
      "execution_count": null,
      "outputs": []
    },
    {
      "cell_type": "markdown",
      "metadata": {
        "id": "32BCRqyA5cD5"
      },
      "source": [
        "Set a random `seed` value to obtain reproducable results:"
      ]
    },
    {
      "cell_type": "code",
      "metadata": {
        "id": "D3cPTu1R5cmj"
      },
      "source": [
        "# init deterministic seed\n",
        "seed_value = 1234\n",
        "np.random.seed(seed_value) # set numpy seed\n",
        "torch.manual_seed(seed_value) # set pytorch seed CPU"
      ],
      "execution_count": null,
      "outputs": []
    },
    {
      "cell_type": "markdown",
      "metadata": {
        "id": "SOvmwDdIRnTp"
      },
      "source": [
        "## 3. Artifcial Neural Networks (ANNs) Assignments"
      ]
    },
    {
      "cell_type": "markdown",
      "metadata": {
        "id": "vyqnqndjWw1S"
      },
      "source": [
        "### 3.1 Fashion MNIST Dataset Download and Data Assessment"
      ]
    },
    {
      "cell_type": "markdown",
      "metadata": {
        "id": "wgyKo34eWw1T"
      },
      "source": [
        "The **Fashion-MNIST database** is a large database of Zalando articles that is commonly used for training various image processing systems. The database is widely used for training and testing in the field of machine learning. Let's have a brief look into a couple of sample images contained in the dataset:"
      ]
    },
    {
      "cell_type": "markdown",
      "metadata": {
        "id": "-q9TexBXWw1T"
      },
      "source": [
        "<img align=\"center\" style=\"max-width: 700px; height: 300px\" src=\"FashionMNIST.png\">\n",
        "\n",
        "Source: https://www.kaggle.com/c/insar-fashion-mnist-challenge"
      ]
    },
    {
      "cell_type": "markdown",
      "metadata": {
        "id": "4YEOHPO5Ww1T"
      },
      "source": [
        "Further details on the dataset can be obtained via Zalando research's [github page](https://github.com/zalandoresearch/fashion-mnist)."
      ]
    },
    {
      "cell_type": "markdown",
      "metadata": {
        "id": "_B6cw9iEWw1T"
      },
      "source": [
        "The **Fashion-MNIST database** is a dataset of Zalando's article images, consisting of a training set of 60,000 examples and a test set of 10,000 examples. Each example is a 28x28 grayscale image, associated with a label from 10 classes. Zalando created this dataset with the intention of providing a replacement for the popular **MNIST** handwritten digits dataset. It is a useful addition as it is a bit more complex, but still very easy to use. It shares the same image size and train/test split structure as MNIST, and can therefore be used as a drop-in replacement. It requires minimal efforts on preprocessing and formatting the distinct images."
      ]
    },
    {
      "cell_type": "markdown",
      "metadata": {
        "id": "igSTsQMKWw1U"
      },
      "source": [
        "Let's download, transform and inspect the training images of the dataset. Therefore, let's first define the directory in which we aim to store the training data:"
      ]
    },
    {
      "cell_type": "code",
      "metadata": {
        "id": "wfCn1e8MWw1V"
      },
      "source": [
        "train_path = './data/train_fashion_mnist'"
      ],
      "execution_count": null,
      "outputs": []
    },
    {
      "cell_type": "markdown",
      "metadata": {
        "id": "k4fUsNeLWw1V"
      },
      "source": [
        "Now, let's download the training data accordingly:"
      ]
    },
    {
      "cell_type": "code",
      "metadata": {
        "id": "X-GZL31YWw1W"
      },
      "source": [
        "# define pytorch transformation into tensor format\n",
        "transf = torchvision.transforms.Compose([torchvision.transforms.ToTensor()])\n",
        "\n",
        "# download and transform training images\n",
        "fashion_mnist_train_data = torchvision.datasets.FashionMNIST(root=train_path, train=True, transform=transf, download=True)"
      ],
      "execution_count": null,
      "outputs": []
    },
    {
      "cell_type": "markdown",
      "metadata": {
        "id": "HaLuUXc4Ww1W"
      },
      "source": [
        "Verify the number of training images downloaded:"
      ]
    },
    {
      "cell_type": "code",
      "metadata": {
        "id": "OmRdyfxFWw1W"
      },
      "source": [
        "# determine the number of training data images\n",
        "len(fashion_mnist_train_data)"
      ],
      "execution_count": null,
      "outputs": []
    },
    {
      "cell_type": "markdown",
      "metadata": {
        "id": "ctD4Dl0C_7RE"
      },
      "source": [
        "Next, we need to map each numerical label to its fashion item, which will be useful throughout the lab:"
      ]
    },
    {
      "cell_type": "code",
      "metadata": {
        "id": "FmzSMz1FASrm"
      },
      "source": [
        "fashion_classes = {0: 'T-shirt/top',\n",
        "                    1: 'Trouser',\n",
        "                    2: 'Pullover',\n",
        "                    3: 'Dress',\n",
        "                    4: 'Coat',\n",
        "                    5: 'Sandal',\n",
        "                    6: 'Shirt',\n",
        "                    7: 'Sneaker',\n",
        "                    8: 'Bag',\n",
        "                    9: 'Ankle boot'}"
      ],
      "execution_count": null,
      "outputs": []
    },
    {
      "cell_type": "markdown",
      "metadata": {
        "id": "w5fmhiuzWw1Y"
      },
      "source": [
        "Let's now define the directory in which we aim to store the evaluation data:"
      ]
    },
    {
      "cell_type": "code",
      "metadata": {
        "id": "8G3eQFy3Ww1b"
      },
      "source": [
        "eval_path = './data/eval_fashion_mnist'"
      ],
      "execution_count": null,
      "outputs": []
    },
    {
      "cell_type": "markdown",
      "metadata": {
        "id": "dNNTmyI7Ww1b"
      },
      "source": [
        "And download the evaluation data accordingly:"
      ]
    },
    {
      "cell_type": "code",
      "metadata": {
        "id": "PvIBdhlPWw1b"
      },
      "source": [
        "# define pytorch transformation into tensor format\n",
        "transf = torchvision.transforms.Compose([torchvision.transforms.ToTensor()])\n",
        "\n",
        "# download and transform training images\n",
        "fashion_mnist_eval_data = torchvision.datasets.FashionMNIST(root=eval_path, train=False, transform=transf, download=True)"
      ],
      "execution_count": null,
      "outputs": []
    },
    {
      "cell_type": "markdown",
      "metadata": {
        "id": "4skfCFEfWw1c"
      },
      "source": [
        "Let's also verify the number of evaluation images downloaded:"
      ]
    },
    {
      "cell_type": "code",
      "metadata": {
        "id": "Oq3rW2wKWw1c"
      },
      "source": [
        "# determine the number of evaluation data images\n",
        "len(fashion_mnist_eval_data)"
      ],
      "execution_count": null,
      "outputs": []
    },
    {
      "cell_type": "markdown",
      "metadata": {
        "id": "ucTxc7GGWw1c"
      },
      "source": [
        "### 3.2 Artificial Neural Network (ANN) Model Training and Evaluation"
      ]
    },
    {
      "cell_type": "markdown",
      "metadata": {
        "id": "9i5LlBmiWw1d"
      },
      "source": [
        "<img align=\"center\" style=\"max-width: 1000px\" src=\"process.png\">"
      ]
    },
    {
      "cell_type": "markdown",
      "metadata": {
        "id": "n0O0uPIFRnTs"
      },
      "source": [
        "We recommend you to try the following exercises as part of the self-coding session:\n",
        "\n",
        "**Exercise 1: Train the neural network architecture of the lab for less epochs and evaluate its prediction accuracy.**"
      ]
    },
    {
      "cell_type": "markdown",
      "metadata": {
        "id": "S4LO9SxMRnTt"
      },
      "source": [
        "> Decrease the number of training epochs to **5 epochs** and re-run the network training. Load and evaluate the model exhibiting the lowest training loss. What kind of behaviour in terms of prediction accuracy can be observed with decreasing the number of training epochs?"
      ]
    },
    {
      "cell_type": "code",
      "metadata": {
        "id": "9VsUl6BYRnTt"
      },
      "source": [
        "#### Step 1. define and init neural network architecture #############################################################\n",
        "\n",
        "# ***************************************************\n",
        "# INSERT YOUR SOLUTION/CODE HERE\n",
        "# ***************************************************\n",
        "\n",
        "#### Step 2. define loss, training hyperparameters and dataloader ####################################################\n",
        "\n",
        "# ***************************************************\n",
        "# INSERT YOUR SOLUTION/CODE HERE\n",
        "# ***************************************************\n",
        "\n",
        "#### Step 3. run model training ######################################################################################\n",
        "\n",
        "# ***************************************************\n",
        "# INSERT YOUR SOLUTION/CODE HERE\n",
        "# ***************************************************\n",
        "\n",
        "#### Step 4. run model evaluation ####################################################################################\n",
        "\n",
        "# ***************************************************\n",
        "# INSERT YOUR SOLUTION/CODE HERE\n",
        "# ***************************************************"
      ],
      "execution_count": null,
      "outputs": []
    },
    {
      "cell_type": "markdown",
      "metadata": {
        "id": "42hkDciWRnTt"
      },
      "source": [
        "**Exercise 2: Evaluation of \"shallow\" vs. \"deep\" neural network architectures.**"
      ]
    },
    {
      "cell_type": "markdown",
      "metadata": {
        "id": "-FwI9ldERnTt"
      },
      "source": [
        "> In addition to the architecture of the lab notebook, evaluate further (more **shallow** as well as more **deep**) neural network architectures by (1) either **removing or adding** layers to the network and/or (2) increasing/decreasing the number of neurons per layer. Train a model (using the architectures you selected) for at least **20 training epochs**. Analyze the prediction performance of the trained models in terms of training time and prediction accuracy. "
      ]
    },
    {
      "cell_type": "code",
      "metadata": {
        "id": "JDdFJHadRnTt"
      },
      "source": [
        "#### Step 1. define and init neural network architecture #############################################################\n",
        "\n",
        "# ***************************************************\n",
        "# INSERT YOUR SOLUTION/CODE HERE\n",
        "# ***************************************************\n",
        "\n",
        "#### Step 2. define loss, training hyperparameters and dataloader ####################################################\n",
        "\n",
        "# ***************************************************\n",
        "# INSERT YOUR SOLUTION/CODE HERE\n",
        "# ***************************************************\n",
        "\n",
        "#### Step 3. run model training ######################################################################################\n",
        "\n",
        "# ***************************************************\n",
        "# INSERT YOUR SOLUTION/CODE HERE\n",
        "# ***************************************************\n",
        "\n",
        "#### Step 4. run model evaluation ####################################################################################\n",
        "\n",
        "# ***************************************************\n",
        "# INSERT YOUR SOLUTION/CODE HERE\n",
        "# ***************************************************"
      ],
      "execution_count": null,
      "outputs": []
    }
  ]
}